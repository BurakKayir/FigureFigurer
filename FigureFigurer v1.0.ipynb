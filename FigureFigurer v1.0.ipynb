{
 "cells": [
  {
   "cell_type": "code",
   "execution_count": null,
   "id": "137918c6",
   "metadata": {},
   "outputs": [],
   "source": [
    "figure =  input(\"Which figure type do you want to learn?\")\n",
    "\n",
    "\n",
    "\n",
    "if (figure == \"square\"):\n",
    "    print(\"Please enter the edges in order...\")\n",
    "    a = int(input(\"Edge-1:\"))\n",
    "    b = int(input(\"Edge-2:\"))\n",
    "    c = int(input(\"Edge-3:\"))\n",
    "    d = int(input(\"Edge-4:\"))\n",
    "    \n",
    "    if (a == b and a == c and a == d):\n",
    "        print(\"Square...\")\n",
    "        \n",
    "    elif (a == c and b == d):\n",
    "        print(\"Rectangle...\")\n",
    "        \n",
    "    else:\n",
    "        print(\"Quad...\")\n",
    "        \n",
    "    \n",
    "    \n",
    "elif (figure == \"triangle\"):\n",
    "    a = int(input(\"Edge-1:\"))\n",
    "    b = int(input(\"Edge-2:\"))\n",
    "    c = int(input(\"Edge-3:\"))\n",
    "    \n",
    "    if ( abs(a+b) > c and abs(a+c) > b and abs(b+c) > a):\n",
    "        if (a == b and a == c ):\n",
    "            print(\"Equilateral triangle...\")\n",
    "            \n",
    "        elif ((a == b and a != c) or (a == c and a != b) or (b == c and b != a)):\n",
    "            print(\"Isosceles triangle...\")\n",
    "            \n",
    "        else:\n",
    "            print(\"Scalene triangle...\")\n",
    "            \n",
    "    else:\n",
    "        print(\"It doesn't specify a triangle...\")\n",
    "        \n",
    "else:\n",
    "    print(\"Invalid figure...\")"
   ]
  }
 ],
 "metadata": {
  "kernelspec": {
   "display_name": "Python 3 (ipykernel)",
   "language": "python",
   "name": "python3"
  },
  "language_info": {
   "codemirror_mode": {
    "name": "ipython",
    "version": 3
   },
   "file_extension": ".py",
   "mimetype": "text/x-python",
   "name": "python",
   "nbconvert_exporter": "python",
   "pygments_lexer": "ipython3",
   "version": "3.9.7"
  }
 },
 "nbformat": 4,
 "nbformat_minor": 5
}
